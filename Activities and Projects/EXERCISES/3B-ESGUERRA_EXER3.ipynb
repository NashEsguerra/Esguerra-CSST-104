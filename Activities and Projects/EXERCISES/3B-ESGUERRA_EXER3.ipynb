{
  "nbformat": 4,
  "nbformat_minor": 0,
  "metadata": {
    "colab": {
      "provenance": []
    },
    "kernelspec": {
      "name": "python3",
      "display_name": "Python 3"
    },
    "language_info": {
      "name": "python"
    }
  },
  "cells": [
    {
      "cell_type": "markdown",
      "source": [
        "**NFA TO DFA Conversion using Epsilon Closures and Subset Consruction**"
      ],
      "metadata": {
        "id": "Ci1JRcRKyy1K"
      }
    },
    {
      "cell_type": "markdown",
      "source": [
        "**1. eplison_closures**"
      ],
      "metadata": {
        "id": "WQOqeYjbzFhE"
      }
    },
    {
      "cell_type": "code",
      "execution_count": null,
      "metadata": {
        "id": "fseTfJjtxzNA"
      },
      "outputs": [],
      "source": [
        "def epsilon_closure(states, transitions):\n",
        "    epsilon_states = set(states)\n",
        "    stack = list(states)\n",
        "\n",
        "    while stack:\n",
        "        state = stack.pop()\n",
        "        if 'ε' in transitions[state]:\n",
        "            epsilon_states |= transitions[state]['ε'] - epsilon_states\n",
        "            stack.extend(transitions[state]['ε'] - epsilon_states)\n",
        "\n",
        "    return epsilon_states"
      ]
    },
    {
      "cell_type": "markdown",
      "source": [
        "**2. move(states, symbol, transitions)**"
      ],
      "metadata": {
        "id": "31yaPHPq4UOi"
      }
    },
    {
      "cell_type": "code",
      "source": [
        "def move(states, symbol, transitions):\n",
        "    return {s for state in states for s in transitions[state].get(symbol, set())}\n"
      ],
      "metadata": {
        "id": "kB2P05tX4iN-"
      },
      "execution_count": null,
      "outputs": []
    },
    {
      "cell_type": "markdown",
      "source": [
        "**nfa to dfa(nfa_states, _nfa_transition**"
      ],
      "metadata": {
        "id": "b9fCzVXx4_P5"
      }
    },
    {
      "cell_type": "code",
      "source": [
        "def nfa_to_dfa(nfa_states, nfa_transitions):\n",
        "    dfa_states = []\n",
        "    dfa_transitions = {}\n",
        "    queue = []\n",
        "\n",
        "    q0_epsilon_closure = epsilon_closure({'q0'}, nfa_transitions)\n",
        "    dfa_states.append(q0_epsilon_closure)\n",
        "    queue.append(q0_epsilon_closure)\n",
        "\n",
        "    while queue:\n",
        "        current_state = queue.pop(0)\n",
        "\n",
        "        for symbol in nfa_states['input_symbols']:\n",
        "            next_states = epsilon_closure(move(current_state, symbol, nfa_transitions), nfa_transitions)\n",
        "            if next_states:\n",
        "                if next_states not in dfa_states:\n",
        "                    dfa_states.append(next_states)\n",
        "                    queue.append(next_states)\n",
        "                dfa_transitions.setdefault(tuple(current_state), {})[symbol] = next_states\n",
        "\n",
        "    return dfa_states, dfa_transitions"
      ],
      "metadata": {
        "id": "KXmZKTgA5CXG"
      },
      "execution_count": null,
      "outputs": []
    },
    {
      "cell_type": "markdown",
      "source": [
        "**NFA states and transitions**"
      ],
      "metadata": {
        "id": "U8vX0yXj84q0"
      }
    },
    {
      "cell_type": "code",
      "source": [
        "nfa_states = {\n",
        "   'input_symbols': {'0', '1'},\n",
        "}\n",
        "\n",
        "nfa_transitions = {\n",
        "    'q0': {'0': {'q0', 'q1'}, '1': {'q1'}},\n",
        "    'q1': {'1': {'q0', 'q1'}},\n",
        "}"
      ],
      "metadata": {
        "id": "xODn4Qsv89kg"
      },
      "execution_count": null,
      "outputs": []
    },
    {
      "cell_type": "markdown",
      "source": [
        "**5. Convert NFA to DFA**"
      ],
      "metadata": {
        "id": "kDdbSi8y-NVF"
      }
    },
    {
      "cell_type": "code",
      "source": [
        "dfa_states, dfa_transitions = nfa_to_dfa(nfa_states, nfa_transitions)"
      ],
      "metadata": {
        "id": "sRc8x8ug-qbB"
      },
      "execution_count": null,
      "outputs": []
    },
    {
      "cell_type": "markdown",
      "source": [
        "**Display DFA States and Transitions**\n",
        "\n",
        "\n"
      ],
      "metadata": {
        "id": "wNhv4DifFP8z"
      }
    },
    {
      "cell_type": "code",
      "source": [
        "print(\"DFA states:\", dfa_states)\n",
        "print(\"DFA Transitions:\", dfa_transitions)"
      ],
      "metadata": {
        "colab": {
          "base_uri": "https://localhost:8080/"
        },
        "id": "EUv7a_X9FgUS",
        "outputId": "36dc0d85-63bd-4eeb-c1e2-caaaadf702a9"
      },
      "execution_count": null,
      "outputs": [
        {
          "output_type": "stream",
          "name": "stdout",
          "text": [
            "DFA states: [{'q0'}, {'q1', 'q0'}, {'q1'}]\n",
            "DFA Transitions: {('q0',): {'0': {'q1', 'q0'}, '1': {'q1'}}, ('q1', 'q0'): {'0': {'q1', 'q0'}, '1': {'q1', 'q0'}}, ('q1',): {'1': {'q1', 'q0'}}}\n"
          ]
        }
      ]
    }
  ]
}