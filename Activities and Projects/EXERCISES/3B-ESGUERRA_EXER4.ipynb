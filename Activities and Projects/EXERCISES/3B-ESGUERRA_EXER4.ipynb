{
  "nbformat": 4,
  "nbformat_minor": 0,
  "metadata": {
    "colab": {
      "provenance": []
    },
    "kernelspec": {
      "name": "python3",
      "display_name": "Python 3"
    },
    "language_info": {
      "name": "python"
    }
  },
  "cells": [
    {
      "cell_type": "markdown",
      "source": [
        "**Pushdown Automation Diagram Generation in Python using Graphviz**"
      ],
      "metadata": {
        "id": "5ZHUmqcj5inE"
      }
    },
    {
      "cell_type": "code",
      "execution_count": null,
      "metadata": {
        "colab": {
          "base_uri": "https://localhost:8080/"
        },
        "id": "qyIfpQLO5GT2",
        "outputId": "3230a201-dbd6-498d-c9cf-dc45a769cb58"
      },
      "outputs": [
        {
          "output_type": "stream",
          "name": "stdout",
          "text": [
            "Requirement already satisfied: graphviz in /usr/local/lib/python3.10/dist-packages (0.20.1)\n"
          ]
        }
      ],
      "source": [
        "!pip install graphviz"
      ]
    },
    {
      "cell_type": "markdown",
      "source": [
        "**1. Import Liblaries**"
      ],
      "metadata": {
        "id": "VaSQ3Hn36HRI"
      }
    },
    {
      "cell_type": "code",
      "source": [
        "from graphviz import Digraph"
      ],
      "metadata": {
        "id": "0eq-KWsX6NmX"
      },
      "execution_count": null,
      "outputs": []
    },
    {
      "cell_type": "markdown",
      "source": [
        "2. PDA Class Definition"
      ],
      "metadata": {
        "id": "AGBfHrsp6UH-"
      }
    },
    {
      "cell_type": "code",
      "source": [
        "class PDA:\n",
        "    def __init__(self, states, input_symbols, stack_symbols, transitions, start_state, start_stack_symbol, accept_states):\n",
        "        self.states = states\n",
        "        self.input_symbols = input_symbols\n",
        "        self.stack_symbols = stack_symbols\n",
        "        self.transitions = transitions\n",
        "        self.start_state = start_state\n",
        "        self.start_stack_symbol = start_stack_symbol\n",
        "        self.accept_states = accept_states  # Corrected this line\n",
        "\n",
        "    # PDA Diagram Generation Method\n",
        "    def generate_diagram(self):\n",
        "        pda_diagram = Digraph(format='png')\n",
        "\n",
        "        # Creating Accepting states\n",
        "        pda_diagram.attr('node', shape='doublecircle')\n",
        "        for state in self.accept_states:\n",
        "            pda_diagram.node(state)\n",
        "\n",
        "        # Creating Non-Accepting States\n",
        "        pda_diagram.attr('node', shape='circle')\n",
        "        for state in self.states:\n",
        "            pda_diagram.node(state)\n",
        "\n",
        "        # Adding Start_state\n",
        "        pda_diagram.edge('', self.start_state, label='start')  # Corrected case to start_state\n",
        "\n",
        "        # Adding Transitions\n",
        "        for transition in self.transitions:\n",
        "            start, input_symbol, stack_symbol, end, stack_symbols_to_push = transition\n",
        "            label = f\"{input_symbol},{stack_symbol} -> {''.join(stack_symbols_to_push)}\"  # Corrected this line\n",
        "            pda_diagram.edge(start, end, label=label)\n",
        "\n",
        "        return pda_diagram\n",
        "\n",
        "# Define PDA\n",
        "states = {'q0', 'q1', 'q2'}\n",
        "input_symbols = {'a', 'b'}\n",
        "stack_symbols = {'0', '1'}\n",
        "transitions = [\n",
        "    ('q0', 'a', '0', 'q1', ['1']),\n",
        "    ('q1', 'b', '1', 'q2', []),\n",
        "    ('q2', 'b', '1', 'q2', ['']),\n",
        "]\n",
        "start_state = 'q0'\n",
        "start_stack_symbol = '0'\n",
        "accept_states = {'q2'}\n",
        "\n",
        "pda = PDA(states, input_symbols, stack_symbols, transitions, start_state, start_stack_symbol, accept_states)\n",
        "pda_diagram = pda.generate_diagram()\n",
        "pda_diagram.render('pda_diagram', view=True)"
      ],
      "metadata": {
        "id": "BMFMt4Fo6afU",
        "colab": {
          "base_uri": "https://localhost:8080/",
          "height": 36
        },
        "outputId": "5156a006-bb1f-4406-db09-064f2c20b7d5"
      },
      "execution_count": null,
      "outputs": [
        {
          "output_type": "execute_result",
          "data": {
            "text/plain": [
              "'pda_diagram.png'"
            ],
            "application/vnd.google.colaboratory.intrinsic+json": {
              "type": "string"
            }
          },
          "metadata": {},
          "execution_count": 9
        }
      ]
    }
  ]
}