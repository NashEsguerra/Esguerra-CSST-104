{
  "nbformat": 4,
  "nbformat_minor": 0,
  "metadata": {
    "colab": {
      "provenance": [],
      "authorship_tag": "ABX9TyOLdIlb7uJkLE7/eGqK4cjv",
      "include_colab_link": true
    },
    "kernelspec": {
      "name": "python3",
      "display_name": "Python 3"
    },
    "language_info": {
      "name": "python"
    }
  },
  "cells": [
    {
      "cell_type": "markdown",
      "metadata": {
        "id": "view-in-github",
        "colab_type": "text"
      },
      "source": [
        "<a href=\"https://colab.research.google.com/github/NashEsguerra/Esguerra-CSST-104/blob/main/Exer1.ipynb\" target=\"_parent\"><img src=\"https://colab.research.google.com/assets/colab-badge.svg\" alt=\"Open In Colab\"/></a>"
      ]
    },
    {
      "cell_type": "markdown",
      "source": [],
      "metadata": {
        "id": "EbpYQIBeHn_p"
      }
    },
    {
      "cell_type": "markdown",
      "source": [
        "**ADVANCE MACHINE LEARNING**"
      ],
      "metadata": {
        "id": "zUZ2GmERH7DG"
      }
    },
    {
      "cell_type": "markdown",
      "source": [
        "1. Importing Liblaries"
      ],
      "metadata": {
        "id": "WDJBIX2BI3fj"
      }
    },
    {
      "cell_type": "code",
      "source": [
        "import pandas as pd #data manipulation\n",
        "import matplotlib.pyplot as plt  #Visualization"
      ],
      "metadata": {
        "id": "IHdNUAdmIFRH"
      },
      "execution_count": null,
      "outputs": []
    },
    {
      "cell_type": "markdown",
      "source": [
        "2. Loading Dataset"
      ],
      "metadata": {
        "id": "aG3sh2fjJ0pJ"
      }
    },
    {
      "cell_type": "code",
      "source": [
        "data = pd.read_csv('Nash/sales_data_2.csv')"
      ],
      "metadata": {
        "id": "zz1qpzKMKP7g"
      },
      "execution_count": null,
      "outputs": []
    },
    {
      "cell_type": "markdown",
      "source": [
        "3. Data Loading and Initial Analysis"
      ],
      "metadata": {
        "id": "cm6BEJYGMy15"
      }
    },
    {
      "cell_type": "code",
      "source": [
        "statistic = data.describe()"
      ],
      "metadata": {
        "id": "KCjpK7ZCM5Zx"
      },
      "execution_count": null,
      "outputs": []
    },
    {
      "cell_type": "markdown",
      "source": [
        "4. Data Manipulation"
      ],
      "metadata": {
        "id": "a-5cFkX7OaR1"
      }
    },
    {
      "cell_type": "code",
      "source": [
        "product_revenue = data.groupby('Product')['Revenue'].sum()\n",
        "highest_revenue_product = product_revenue.idxmax()\n",
        "average_quantity_per_day = data['Quantity Sold'].mean()\n"
      ],
      "metadata": {
        "id": "t1yZunSNOhoO"
      },
      "execution_count": null,
      "outputs": []
    },
    {
      "cell_type": "markdown",
      "source": [
        "Data.Visualization"
      ],
      "metadata": {
        "id": "M01Lcy83Q4Yp"
      }
    },
    {
      "cell_type": "code",
      "source": [
        "product_revenue.plot(kind='box')\n",
        "plt.xlabel('Product')\n",
        "plt.ylabel('Revenue')\n",
        "plt.title('Revenue by Product')\n",
        "plt.xticks(rotation=45)\n",
        "plt.tight_layout()\n",
        "plt.show()"
      ],
      "metadata": {
        "id": "3n779ZdvQ_2M"
      },
      "execution_count": null,
      "outputs": []
    },
    {
      "cell_type": "code",
      "source": [
        "report = \"\"\"\n",
        "Analysis Report\n",
        "1. Data Loading and Initial Analysis:\n",
        "   Basic Statistics of Dataset:\n",
        "     {}\n",
        "\n",
        "2. Data Manipulation:\n",
        "   Total Revenue for each product:\n",
        "     {}\n",
        "\n",
        "3. Data Visualization:\n",
        "   Bar char displaying revenue for each product is attached\n",
        "\n",
        "4. Insights:\n",
        "   The Product {} generates the highest revenue\n",
        "   On average, {:.2f} units are sold per day.\n",
        "\n",
        "\"\"\". format(statistic,product_revenue,highest_revenue_product,average_quantity_per_day,\n",
        "            highest_revenue_product,average_quantity_per_day)\n",
        "\n",
        "print(report)"
      ],
      "metadata": {
        "colab": {
          "base_uri": "https://localhost:8080/"
        },
        "id": "-YFRXOy1UoJZ",
        "outputId": "e4ef4fb2-bbe1-49cc-d7e4-503919cf8249"
      },
      "execution_count": null,
      "outputs": [
        {
          "output_type": "stream",
          "name": "stdout",
          "text": [
            "\n",
            "Analysis Report\n",
            "1. Data Loading and Initial Analysis:\n",
            "   Basic Statistics of Dataset:\n",
            "            Quantity Sold     Revenue\n",
            "count     270.000000  270.000000\n",
            "mean       53.981481  290.040444\n",
            "std        26.757823  132.995783\n",
            "min        10.000000   52.950000\n",
            "25%        31.500000  171.217500\n",
            "50%        51.000000  305.190000\n",
            "75%        77.000000  398.550000\n",
            "max       100.000000  499.000000\n",
            "\n",
            "2. Data Manipulation:\n",
            "   Total Revenue for each product:\n",
            "     Product\n",
            "Product A    25994.33\n",
            "Product B    26707.13\n",
            "Product C    25609.46\n",
            "Name: Revenue, dtype: float64\n",
            "\n",
            "3. Data Visualization:\n",
            "   Bar char displaying revenue for each product is attached\n",
            "\n",
            "4. Insights:\n",
            "   The Product Product B generates the highest revenue\n",
            "   On average, 53.98 units are sold per day.\n",
            "\n",
            "\n"
          ]
        }
      ]
    },
    {
      "cell_type": "markdown",
      "source": [
        "7. Saving the Report to File"
      ],
      "metadata": {
        "id": "Ivw9ZxzTXaOM"
      }
    },
    {
      "cell_type": "code",
      "source": [
        "  with open('report.txt','w') as f:\n",
        "    f.write(report)"
      ],
      "metadata": {
        "id": "3Y3XOQi4WmhS"
      },
      "execution_count": null,
      "outputs": []
    }
  ]
}